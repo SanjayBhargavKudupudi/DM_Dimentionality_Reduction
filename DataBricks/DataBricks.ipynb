{
  "nbformat": 4,
  "nbformat_minor": 0,
  "metadata": {
    "colab": {
      "provenance": [],
      "mount_file_id": "1nvd3UBv6n3dNaervSVCL27O8ml5z13ua",
      "authorship_tag": "ABX9TyN2EjPU5kDJnatC3aLWEdRV",
      "include_colab_link": true
    },
    "kernelspec": {
      "name": "python3",
      "display_name": "Python 3"
    },
    "language_info": {
      "name": "python"
    }
  },
  "cells": [
    {
      "cell_type": "markdown",
      "metadata": {
        "id": "view-in-github",
        "colab_type": "text"
      },
      "source": [
        "<a href=\"https://colab.research.google.com/github/SanjayBhargavKudupudi/DM_Dimentionality_Reduction/blob/main/DataBricks/DataBricks.ipynb\" target=\"_parent\"><img src=\"https://colab.research.google.com/assets/colab-badge.svg\" alt=\"Open In Colab\"/></a>"
      ]
    },
    {
      "cell_type": "code",
      "execution_count": 1,
      "metadata": {
        "colab": {
          "base_uri": "https://localhost:8080/"
        },
        "id": "5Fne9ZFJDqSo",
        "outputId": "e0777487-0a6b-4f32-d5ad-a0c6f8e36f40"
      },
      "outputs": [
        {
          "output_type": "stream",
          "name": "stdout",
          "text": [
            "Collecting pyspark\n",
            "  Downloading pyspark-3.5.0.tar.gz (316.9 MB)\n",
            "\u001b[2K     \u001b[90m━━━━━━━━━━━━━━━━━━━━━━━━━━━━━━━━━━━━━━━━\u001b[0m \u001b[32m316.9/316.9 MB\u001b[0m \u001b[31m1.2 MB/s\u001b[0m eta \u001b[36m0:00:00\u001b[0m\n",
            "\u001b[?25h  Preparing metadata (setup.py) ... \u001b[?25l\u001b[?25hdone\n",
            "Requirement already satisfied: py4j==0.10.9.7 in /usr/local/lib/python3.10/dist-packages (from pyspark) (0.10.9.7)\n",
            "Building wheels for collected packages: pyspark\n",
            "  Building wheel for pyspark (setup.py) ... \u001b[?25l\u001b[?25hdone\n",
            "  Created wheel for pyspark: filename=pyspark-3.5.0-py2.py3-none-any.whl size=317425345 sha256=c19630376f49ff0dde520893ca170ab50f5a2249ab48b7fab699abc7e3c63106\n",
            "  Stored in directory: /root/.cache/pip/wheels/41/4e/10/c2cf2467f71c678cfc8a6b9ac9241e5e44a01940da8fbb17fc\n",
            "Successfully built pyspark\n",
            "Installing collected packages: pyspark\n",
            "Successfully installed pyspark-3.5.0\n"
          ]
        }
      ],
      "source": [
        "!pip install pyspark\n"
      ]
    },
    {
      "cell_type": "code",
      "source": [
        "from pyspark.sql import SparkSession\n",
        "\n",
        "spark = SparkSession.builder.master(\"local[*]\").appName(\"Dimensionality_Reduction\").getOrCreate()\n"
      ],
      "metadata": {
        "id": "aXp8DTDgDuyf"
      },
      "execution_count": 2,
      "outputs": []
    },
    {
      "cell_type": "code",
      "source": [
        "# Upload the dataset file from your local system\n",
        "from google.colab import files\n",
        "uploaded = files.upload()\n",
        "\n",
        "# Load the dataset\n",
        "df = spark.read.csv('/content/drive/MyDrive/DATA_MINING_DATASETS/youtubers_df.csv', header=True, inferSchema=True)\n",
        "df.show()\n"
      ],
      "metadata": {
        "colab": {
          "base_uri": "https://localhost:8080/",
          "height": 538
        },
        "id": "Sa9itep8EgXG",
        "outputId": "89709ce5-b46c-4f67-af76-b7ab56b77f09"
      },
      "execution_count": 3,
      "outputs": [
        {
          "output_type": "display_data",
          "data": {
            "text/plain": [
              "<IPython.core.display.HTML object>"
            ],
            "text/html": [
              "\n",
              "     <input type=\"file\" id=\"files-e701cd85-1f98-4507-b0bd-c2db7f7848fa\" name=\"files[]\" multiple disabled\n",
              "        style=\"border:none\" />\n",
              "     <output id=\"result-e701cd85-1f98-4507-b0bd-c2db7f7848fa\">\n",
              "      Upload widget is only available when the cell has been executed in the\n",
              "      current browser session. Please rerun this cell to enable.\n",
              "      </output>\n",
              "      <script>// Copyright 2017 Google LLC\n",
              "//\n",
              "// Licensed under the Apache License, Version 2.0 (the \"License\");\n",
              "// you may not use this file except in compliance with the License.\n",
              "// You may obtain a copy of the License at\n",
              "//\n",
              "//      http://www.apache.org/licenses/LICENSE-2.0\n",
              "//\n",
              "// Unless required by applicable law or agreed to in writing, software\n",
              "// distributed under the License is distributed on an \"AS IS\" BASIS,\n",
              "// WITHOUT WARRANTIES OR CONDITIONS OF ANY KIND, either express or implied.\n",
              "// See the License for the specific language governing permissions and\n",
              "// limitations under the License.\n",
              "\n",
              "/**\n",
              " * @fileoverview Helpers for google.colab Python module.\n",
              " */\n",
              "(function(scope) {\n",
              "function span(text, styleAttributes = {}) {\n",
              "  const element = document.createElement('span');\n",
              "  element.textContent = text;\n",
              "  for (const key of Object.keys(styleAttributes)) {\n",
              "    element.style[key] = styleAttributes[key];\n",
              "  }\n",
              "  return element;\n",
              "}\n",
              "\n",
              "// Max number of bytes which will be uploaded at a time.\n",
              "const MAX_PAYLOAD_SIZE = 100 * 1024;\n",
              "\n",
              "function _uploadFiles(inputId, outputId) {\n",
              "  const steps = uploadFilesStep(inputId, outputId);\n",
              "  const outputElement = document.getElementById(outputId);\n",
              "  // Cache steps on the outputElement to make it available for the next call\n",
              "  // to uploadFilesContinue from Python.\n",
              "  outputElement.steps = steps;\n",
              "\n",
              "  return _uploadFilesContinue(outputId);\n",
              "}\n",
              "\n",
              "// This is roughly an async generator (not supported in the browser yet),\n",
              "// where there are multiple asynchronous steps and the Python side is going\n",
              "// to poll for completion of each step.\n",
              "// This uses a Promise to block the python side on completion of each step,\n",
              "// then passes the result of the previous step as the input to the next step.\n",
              "function _uploadFilesContinue(outputId) {\n",
              "  const outputElement = document.getElementById(outputId);\n",
              "  const steps = outputElement.steps;\n",
              "\n",
              "  const next = steps.next(outputElement.lastPromiseValue);\n",
              "  return Promise.resolve(next.value.promise).then((value) => {\n",
              "    // Cache the last promise value to make it available to the next\n",
              "    // step of the generator.\n",
              "    outputElement.lastPromiseValue = value;\n",
              "    return next.value.response;\n",
              "  });\n",
              "}\n",
              "\n",
              "/**\n",
              " * Generator function which is called between each async step of the upload\n",
              " * process.\n",
              " * @param {string} inputId Element ID of the input file picker element.\n",
              " * @param {string} outputId Element ID of the output display.\n",
              " * @return {!Iterable<!Object>} Iterable of next steps.\n",
              " */\n",
              "function* uploadFilesStep(inputId, outputId) {\n",
              "  const inputElement = document.getElementById(inputId);\n",
              "  inputElement.disabled = false;\n",
              "\n",
              "  const outputElement = document.getElementById(outputId);\n",
              "  outputElement.innerHTML = '';\n",
              "\n",
              "  const pickedPromise = new Promise((resolve) => {\n",
              "    inputElement.addEventListener('change', (e) => {\n",
              "      resolve(e.target.files);\n",
              "    });\n",
              "  });\n",
              "\n",
              "  const cancel = document.createElement('button');\n",
              "  inputElement.parentElement.appendChild(cancel);\n",
              "  cancel.textContent = 'Cancel upload';\n",
              "  const cancelPromise = new Promise((resolve) => {\n",
              "    cancel.onclick = () => {\n",
              "      resolve(null);\n",
              "    };\n",
              "  });\n",
              "\n",
              "  // Wait for the user to pick the files.\n",
              "  const files = yield {\n",
              "    promise: Promise.race([pickedPromise, cancelPromise]),\n",
              "    response: {\n",
              "      action: 'starting',\n",
              "    }\n",
              "  };\n",
              "\n",
              "  cancel.remove();\n",
              "\n",
              "  // Disable the input element since further picks are not allowed.\n",
              "  inputElement.disabled = true;\n",
              "\n",
              "  if (!files) {\n",
              "    return {\n",
              "      response: {\n",
              "        action: 'complete',\n",
              "      }\n",
              "    };\n",
              "  }\n",
              "\n",
              "  for (const file of files) {\n",
              "    const li = document.createElement('li');\n",
              "    li.append(span(file.name, {fontWeight: 'bold'}));\n",
              "    li.append(span(\n",
              "        `(${file.type || 'n/a'}) - ${file.size} bytes, ` +\n",
              "        `last modified: ${\n",
              "            file.lastModifiedDate ? file.lastModifiedDate.toLocaleDateString() :\n",
              "                                    'n/a'} - `));\n",
              "    const percent = span('0% done');\n",
              "    li.appendChild(percent);\n",
              "\n",
              "    outputElement.appendChild(li);\n",
              "\n",
              "    const fileDataPromise = new Promise((resolve) => {\n",
              "      const reader = new FileReader();\n",
              "      reader.onload = (e) => {\n",
              "        resolve(e.target.result);\n",
              "      };\n",
              "      reader.readAsArrayBuffer(file);\n",
              "    });\n",
              "    // Wait for the data to be ready.\n",
              "    let fileData = yield {\n",
              "      promise: fileDataPromise,\n",
              "      response: {\n",
              "        action: 'continue',\n",
              "      }\n",
              "    };\n",
              "\n",
              "    // Use a chunked sending to avoid message size limits. See b/62115660.\n",
              "    let position = 0;\n",
              "    do {\n",
              "      const length = Math.min(fileData.byteLength - position, MAX_PAYLOAD_SIZE);\n",
              "      const chunk = new Uint8Array(fileData, position, length);\n",
              "      position += length;\n",
              "\n",
              "      const base64 = btoa(String.fromCharCode.apply(null, chunk));\n",
              "      yield {\n",
              "        response: {\n",
              "          action: 'append',\n",
              "          file: file.name,\n",
              "          data: base64,\n",
              "        },\n",
              "      };\n",
              "\n",
              "      let percentDone = fileData.byteLength === 0 ?\n",
              "          100 :\n",
              "          Math.round((position / fileData.byteLength) * 100);\n",
              "      percent.textContent = `${percentDone}% done`;\n",
              "\n",
              "    } while (position < fileData.byteLength);\n",
              "  }\n",
              "\n",
              "  // All done.\n",
              "  yield {\n",
              "    response: {\n",
              "      action: 'complete',\n",
              "    }\n",
              "  };\n",
              "}\n",
              "\n",
              "scope.google = scope.google || {};\n",
              "scope.google.colab = scope.google.colab || {};\n",
              "scope.google.colab._files = {\n",
              "  _uploadFiles,\n",
              "  _uploadFilesContinue,\n",
              "};\n",
              "})(self);\n",
              "</script> "
            ]
          },
          "metadata": {}
        },
        {
          "output_type": "stream",
          "name": "stdout",
          "text": [
            "Saving youtubers_df.csv to youtubers_df.csv\n",
            "+----+--------------------+--------------------+-------------------+--------------+------------------+---------+--------+--------------------+\n",
            "|Rank|            Username|          Categories|         Suscribers|       Country|            Visits|    Likes|Comments|               Links|\n",
            "+----+--------------------+--------------------+-------------------+--------------+------------------+---------+--------+--------------------+\n",
            "|   1|             tseries|      Música y baile|            2.495E8|         India|           86200.0|   2700.0|    78.0|http://youtube.co...|\n",
            "|   2|             MrBeast|  Videojuegos, Humor|            1.835E8|Estados Unidos|           1.174E8|5300000.0| 18500.0|http://youtube.co...|\n",
            "|   3|           CoComelon|           Educación|            1.655E8|       Unknown|         7000000.0|  24700.0|     0.0|http://youtube.co...|\n",
            "|   4|            SETIndia|                NULL|            1.626E8|         India|           15600.0|    166.0|     9.0|http://youtube.co...|\n",
            "|   5|       KidsDianaShow| Animación, Juguetes|            1.135E8|       Unknown|         3900000.0|  12400.0|     0.0|http://youtube.co...|\n",
            "|   6|           PewDiePie|Películas, Videoj...|            1.115E8|Estados Unidos|         2400000.0| 197300.0|  4900.0|http://youtube.co...|\n",
            "|   7|  LikeNastyaofficial|            Juguetes|            1.075E8|       Unknown|         2600000.0|  28000.0|     0.0|http://youtube.co...|\n",
            "|   8|         VladandNiki| Animación, Juguetes|            1.014E8|       Unknown|4099999.9999999995|  22100.0|     0.0|http://youtube.co...|\n",
            "|   9|     zeemusiccompany|      Música y baile|             9.97E7|         India|           74300.0|   2600.0|    32.0|http://youtube.co...|\n",
            "|  10|                 WWE|         Videojuegos|             9.72E7|Estados Unidos|          184500.0|   6300.0|   214.0|http://youtube.co...|\n",
            "|  11|           BLACKPINK|      Música y baile|             9.13E7|Estados Unidos|          863200.0| 146900.0|  3400.0|http://youtube.co...|\n",
            "|  12|  GoldminesTelefilms|                NULL|             8.97E7|         India|           34600.0|    421.0|    13.0|http://youtube.co...|\n",
            "|  13|             SonySAB|Películas, Animación|             8.54E7|         India|           35500.0|    615.0|    21.0|http://youtube.co...|\n",
            "|  14|5MinuteCraftsYouTube|           Películas|             8.03E7|         India|          164600.0|    703.0|    35.0|http://youtube.co...|\n",
            "|  15|                 BTS|      Música y baile|             7.65E7|         India|          969700.0| 180300.0|  7400.0|http://youtube.co...|\n",
            "|  16|          HYBELABELS|      Música y baile|             7.27E7|Estados Unidos|          440700.0|  23900.0|   932.0|http://youtube.co...|\n",
            "|  17|               zeetv|                NULL|             7.25E7|         India|            7300.0|    144.0|     1.0|http://youtube.co...|\n",
            "|  18|            Pinkfong| Animación, Juguetes|             6.96E7|       Unknown|          506400.0|    397.0|     0.0|http://youtube.co...|\n",
            "|  19|            ChuChuTV|            Juguetes|             6.75E7|       Unknown|          652100.0|  17800.0|     0.0|http://youtube.co...|\n",
            "|  20|           KondZilla|      Música y baile|6.659999999999999E7|        Brasil|           30400.0|   1100.0|     4.0|http://youtube.co...|\n",
            "+----+--------------------+--------------------+-------------------+--------------+------------------+---------+--------+--------------------+\n",
            "only showing top 20 rows\n",
            "\n"
          ]
        }
      ]
    },
    {
      "cell_type": "code",
      "source": [
        "from pyspark.ml.feature import StringIndexer, OneHotEncoder, VectorAssembler, StandardScaler\n",
        "from pyspark.sql.functions import col\n",
        "\n",
        "# Correct the column names based on your dataset\n",
        "# Let's assume the correct names are 'Categories' and 'Country'\n",
        "\n",
        "# 1. Handle missing values\n",
        "df = df.fillna({'Categories': 'Unknown', 'Country': 'Unknown'})  # Fill missing values\n",
        "\n",
        "# 2. Encode categorical variables\n",
        "# String indexing for categorical variables\n",
        "indexer = StringIndexer(inputCols=['Categories', 'Country'], outputCols=['CategoriesIndexed', 'CountryIndexed'])\n",
        "df_indexed = indexer.fit(df).transform(df)\n",
        "\n",
        "# One-hot encoding\n",
        "encoder = OneHotEncoder(inputCols=['CategoriesIndexed', 'CountryIndexed'], outputCols=['CategoriesVec', 'CountryVec'])\n",
        "df_encoded = encoder.fit(df_indexed).transform(df_indexed)\n",
        "\n",
        "# 3. Assemble all features into a single feature vector\n",
        "# Add all your feature columns to the inputCols list\n",
        "assembler = VectorAssembler(inputCols=['CategoriesVec', 'CountryVec', 'Suscribers', 'Visits', 'Likes', 'Comments'], outputCol='features')\n",
        "df_assembled = assembler.transform(df_encoded)\n",
        "\n",
        "# 4. Normalize the feature vector (if necessary)\n",
        "scaler = StandardScaler(inputCol='features', outputCol='scaledFeatures', withStd=True, withMean=True)\n",
        "df_scaled = scaler.fit(df_assembled).transform(df_assembled)\n",
        "\n",
        "# The resulting DataFrame 'df_scaled' is now ready for machine learning models in PySpark\n"
      ],
      "metadata": {
        "id": "LmWlw5ExEsQV"
      },
      "execution_count": 6,
      "outputs": []
    },
    {
      "cell_type": "code",
      "source": [
        "from pyspark.ml.feature import PCA\n",
        "from pyspark.ml.linalg import Vectors\n",
        "\n",
        "# Configure PCA model\n",
        "pca = PCA(k=2, inputCol=\"scaledFeatures\", outputCol=\"pcaFeatures\")\n",
        "\n",
        "# Apply PCA to the data\n",
        "model = pca.fit(df_scaled)\n",
        "result = model.transform(df_scaled)\n",
        "\n",
        "# Select and show the result\n",
        "result.select(\"pcaFeatures\").show(truncate=False)\n"
      ],
      "metadata": {
        "colab": {
          "base_uri": "https://localhost:8080/"
        },
        "id": "yVQwtRUUFof8",
        "outputId": "a89c0c13-5b65-44a7-8f06-64749bbe5ccf"
      },
      "execution_count": 8,
      "outputs": [
        {
          "output_type": "stream",
          "name": "stdout",
          "text": [
            "+---------------------------------------------+\n",
            "|pcaFeatures                                  |\n",
            "+---------------------------------------------+\n",
            "|[2.0594186000980184,1.3970740718145662]      |\n",
            "|[29.41847609766093,1.0084657441155669]       |\n",
            "|[1.55545873865049,-0.5981207039510482]       |\n",
            "|[1.0452516858275855,2.435843038238497]       |\n",
            "|[0.27613734363053904,-1.9771561261775634]    |\n",
            "|[2.157964787767684,-0.8947055053208156]      |\n",
            "|[0.24334389351644423,-1.8994851175802832]    |\n",
            "|[0.18704406218990285,-1.9871082409876863]    |\n",
            "|[0.4114808461333422,1.2305315402107837]      |\n",
            "|[1.309407815036086,-1.3759976520533685]      |\n",
            "|[1.4708461567076878,-0.5843413629525467]     |\n",
            "|[0.24797266455333242,2.3549549704323947]     |\n",
            "|[0.12054137808156824,0.7786525593148327]     |\n",
            "|[0.18797472993965716,1.150959831055734]      |\n",
            "|[1.0051294879180537,1.2229904358381203]      |\n",
            "|[0.827825661392131,-0.6251283776071278]      |\n",
            "|[0.05497208647346887,2.3356052766035362]     |\n",
            "|[-0.6081578276514422,-2.0540328275490727]    |\n",
            "|[-0.43405802550630257,-1.9607535770266198]   |\n",
            "|[-0.0031737297138728217,-0.39575363324659524]|\n",
            "+---------------------------------------------+\n",
            "only showing top 20 rows\n",
            "\n"
          ]
        }
      ]
    },
    {
      "cell_type": "code",
      "source": [
        "import pandas as pd\n",
        "import matplotlib.pyplot as plt\n",
        "\n",
        "# Convert to Pandas DataFrame for visualization\n",
        "result_pandas = result.select(\"pcaFeatures\").toPandas()\n",
        "\n",
        "# Extract PCA components and plot\n",
        "pca_features = result_pandas['pcaFeatures'].apply(lambda x: pd.Series(x.toArray()))\n",
        "pca_features.columns = ['PC1', 'PC2']\n",
        "\n",
        "plt.figure(figsize=(10, 6))\n",
        "plt.scatter(pca_features['PC1'], pca_features['PC2'])\n",
        "plt.xlabel('Principal Component 1')\n",
        "plt.ylabel('Principal Component 2')\n",
        "plt.title('PCA Results')\n",
        "plt.show()\n"
      ],
      "metadata": {
        "colab": {
          "base_uri": "https://localhost:8080/",
          "height": 564
        },
        "id": "3uvFFVoHGSEn",
        "outputId": "1b5bd326-4ebf-4863-a274-e9bf2e3d0fa6"
      },
      "execution_count": 9,
      "outputs": [
        {
          "output_type": "display_data",
          "data": {
            "text/plain": [
              "<Figure size 1000x600 with 1 Axes>"
            ],
            "image/png": "[encoded data removed]"
          },
          "metadata": {}
        }
      ]
    },
    {
      "cell_type": "code",
      "source": [
        "from pyspark.ml.clustering import KMeans\n",
        "\n",
        "# Configure KMeans model\n",
        "kmeans = KMeans().setK(3).setSeed(1).setFeaturesCol(\"pcaFeatures\")\n",
        "\n",
        "# Apply KMeans to the PCA results\n",
        "model = kmeans.fit(result)\n",
        "clusters = model.transform(result)\n",
        "\n",
        "# Show cluster centers\n",
        "centers = model.clusterCenters()\n",
        "print(\"Cluster Centers: \")\n",
        "for center in centers:\n",
        "    print(center)\n"
      ],
      "metadata": {
        "colab": {
          "base_uri": "https://localhost:8080/"
        },
        "id": "nkAhFoJuGkC8",
        "outputId": "234ce47f-5221-492a-f150-ab71fd6d3b2f"
      },
      "execution_count": 10,
      "outputs": [
        {
          "output_type": "stream",
          "name": "stdout",
          "text": [
            "Cluster Centers: \n",
            "[21.79785931  0.47216222]\n",
            "[-0.12526759  1.37680296]\n",
            "[-0.02161218 -1.01708038]\n"
          ]
        }
      ]
    },
    {
      "cell_type": "code",
      "source": [
        "spark.stop()\n"
      ],
      "metadata": {
        "id": "MHgttfCtGnYb"
      },
      "execution_count": 11,
      "outputs": []
    },
    {
      "cell_type": "code",
      "source": [],
      "metadata": {
        "id": "B7_6lPGEGrOT"
      },
      "execution_count": null,
      "outputs": []
    }
  ]
}